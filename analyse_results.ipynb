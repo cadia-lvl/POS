{
 "cells": [
  {
   "cell_type": "markdown",
   "metadata": {},
   "source": []
  },
  {
   "cell_type": "code",
   "execution_count": 1,
   "metadata": {},
   "outputs": [],
   "source": [
    "from pathlib import Path\n",
    "from pprint import pprint\n",
    "import pickle\n",
    "\n",
    "from pos import evaluate\n",
    "from pos import data\n",
    "EXPERIMENT_DIR=Path(\".\")/\"out\""
   ]
  },
  {
   "cell_type": "markdown",
   "metadata": {},
   "source": [
    "## Read the experiment files\n",
    "Here are some useful functions for gathering experimental data and doing averages across folds."
   ]
  },
  {
   "cell_type": "code",
   "execution_count": 2,
   "metadata": {},
   "outputs": [],
   "source": [
    "def gather_experiments(experiment_paths):\n",
    "    return [\n",
    "        evaluate.Experiment(experiment_path) for experiment_path in experiment_paths\n",
    "    ]\n",
    "\n",
    "def print_errors(experiments):\n",
    "    for experiment_name in experiments:\n",
    "        print(experiment_name)\n",
    "        errors = evaluate.all_errors(experiments[experiment_name][\"examples\"])\n",
    "        pprint(errors.most_common(20))\n",
    "\n",
    "def average_accuracy(experiments, filter_vocab=None):\n",
    "    if filter_vocab is not None:\n",
    "        sum(accuracy_filter(experiment, filter_vocab=filter_vocab\n",
    "            ) for experiment in experiments.values()) / len(experiments)\n",
    "    return sum((evaluate.calculate_accuracy(experiment['examples']) for experiment in experiments.values())) / len(experiments)"
   ]
  },
  {
   "cell_type": "markdown",
   "metadata": {},
   "source": [
    "### Folds"
   ]
  },
  {
   "cell_type": "code",
   "execution_count": 11,
   "metadata": {
    "tags": []
   },
   "outputs": [],
   "source": [
    "fold_experiments = {\n",
    "    \"baseline\": gather_experiments(EXPERIMENT_DIR / \"gold-baseline\" / f\"{i:02}\" for i in range(1, 10)),\n",
    "    \"only-char\": gather_experiments(EXPERIMENT_DIR / \"gold-only-char\" / f\"{i:02}\" for i in range(1, 10)),\n",
    "    \"only-morph\": gather_experiments(EXPERIMENT_DIR / \"gold-only-morph\" / f\"{i:02}\" for i in range(1, 10)),\n",
    "    \"only-morph+freeze\": gather_experiments(EXPERIMENT_DIR / \"gold-only-morph+freeze\" / f\"{i:02}\" for i in range(1, 10)),\n",
    "    \"only-wemb\": gather_experiments(EXPERIMENT_DIR / \"gold-only-wemb\" / f\"{i:02}\" for i in range(1, 10)),\n",
    "    \"wemb+morph\": gather_experiments(EXPERIMENT_DIR / \"gold-wemb+morph\" / f\"{i:02}\" for i in range(1, 10)),\n",
    "    \"wemb+morph-freeze\": gather_experiments(EXPERIMENT_DIR / \"gold-wemb+morph+freeze\" / f\"{i:02}\" for i in range(1, 10)),\n",
    "    \"wemb+morph-freeze+extra\": gather_experiments(EXPERIMENT_DIR / \"gold-wemb+morph+freeze+extra-32\" / f\"{i:02}\" for i in range(1, 10)),\n",
    "}"
   ]
  },
  {
   "cell_type": "code",
   "execution_count": 12,
   "metadata": {
    "tags": []
   },
   "outputs": [
    {
     "output_type": "stream",
     "name": "stdout",
     "text": "baseline\ntotal=94.543% / 5462,             unk=80.286% / 1678,             known=95.868% / 3785,             \nonly-char\ntotal=91.164% / 8844,             unk=71.398% / 2434,             known=93.001% / 6410,             \nonly-morph\ntotal=85.419% / 14595,             unk=58.647% / 3519,             known=87.907% / 11075,             \nonly-morph+freeze\ntotal=82.000% / 18017,             unk=57.323% / 3632,             known=84.293% / 14385,             \nonly-wemb\ntotal=88.509% / 11502,             unk=20.267% / 6786,             known=94.851% / 4716,             \nwemb+morph\ntotal=92.819% / 7188,             unk=62.381% / 3202,             known=95.647% / 3986,             \nwemb+morph-freeze\ntotal=92.760% / 7247,             unk=61.517% / 3275,             known=95.663% / 3972,             \nwemb+morph-freeze+extra\ntotal=92.641% / 7366,             unk=61.356% / 3289,             known=95.549% / 4077,             \n"
    }
   ],
   "source": [
    "for name, experiments in fold_experiments.items():\n",
    "    print(name)\n",
    "    print(evaluate.report_experiments(experiments))"
   ]
  },
  {
   "cell_type": "markdown",
   "metadata": {},
   "source": [
    "## Individual experiments\n",
    "Define individual experiments and do analysis.\n"
   ]
  },
  {
   "cell_type": "code",
   "execution_count": 60,
   "metadata": {},
   "outputs": [],
   "source": [
    "baseline = \"abl-tagger-baseline\"\n",
    "experiment_names = [\n",
    "    baseline,\n",
    "    \"baseline\",\n",
    "]\n",
    "experiments = gather_experiments(experiment_names)"
   ]
  },
  {
   "cell_type": "code",
   "execution_count": 62,
   "metadata": {
    "tags": []
   },
   "outputs": [
    {
     "output_type": "stream",
     "name": "stdout",
     "text": "total=12324, train=55737, morphlex=54068,         both=58988, neither=385\nTotal acc=0.9224, known acc=0.9273,         unk acc=0.3075\ntotal=12324, train=51824, morphlex=54068,         both=56562, neither=412\nTotal acc=0.9584, known acc=0.9603,         unk acc=0.7832\n"
    }
   ],
   "source": [
    "for experiment in experiments.values():\n",
    "    print(f\"total={len(experiment['test_vocab'])}, \\\n",
    "                train={len(experiment['train_vocab'])}, \\\n",
    "                morphlex={len(experiment['morphlex_vocab'])}, \\\n",
    "                both={len(experiment['both_vocab'])}, \\\n",
    "                neither={len(experiment['neither_vocab'])}\")\n",
    "    print(f\"Total acc={accuracy_filter(experiment):.4f}, known acc={accuracy_filter(experiment, filter_vocab='both_vocab'):.4f}, \\\n",
    "        unk acc={accuracy_filter(experiment, filter_vocab='neither_vocab'):.4f}\")\n",
    "\n"
   ]
  },
  {
   "cell_type": "markdown",
   "metadata": {},
   "source": [
    "### Errors\n",
    "Proposed tag -> gold tag"
   ]
  },
  {
   "cell_type": "code",
   "execution_count": null,
   "metadata": {
    "tags": []
   },
   "outputs": [],
   "source": [
    "print_errors(experiments)\n"
   ]
  },
  {
   "cell_type": "code",
   "execution_count": null,
   "metadata": {},
   "outputs": [],
   "source": [
    "def get_error_diff(baseline, compare_to):\n",
    "    result = {}\n",
    "    for key, value in baseline.items():\n",
    "        if key not in compare_to:\n",
    "            result[key] = basline[key]\n",
    "            continue\n",
    "        diff = baseline[key] - compare_to[key]\n",
    "        if diff != 0:\n",
    "            result[key] = diff\n",
    "    return result\n",
    "\n",
    "            "
   ]
  },
  {
   "cell_type": "code",
   "execution_count": null,
   "metadata": {
    "tags": []
   },
   "outputs": [],
   "source": [
    "from collections import Counter\n",
    "c_1 = Counter((1, 1, 2))\n",
    "c_2 = Counter((1, 1, 3))\n",
    "print(c_1 - c_2)"
   ]
  },
  {
   "cell_type": "code",
   "execution_count": null,
   "metadata": {
    "tags": []
   },
   "outputs": [],
   "source": [
    "baseline = \"sgd+morph_lex-freeze+wemb-pretrained-300-reduced-lr\"\n",
    "baseline_errors = evaluate.all_errors(experiments[baseline][\"examples\"])\n",
    "for experiment_name in experiments:\n",
    "    if experiment_name == baseline:\n",
    "        continue\n",
    "    print(f\"{experiment_name}: First, in basline not in {experiment_name}, then in {experiment_name} not in basline.\")\n",
    "    pprint((evaluate.all_errors(experiments[baseline][\"examples\"]) - evaluate.all_errors(experiments[experiment_name][\"examples\"])).most_common(20))\n",
    "    pprint((evaluate.all_errors(experiments[experiment_name][\"examples\"]) - evaluate.all_errors(experiments[baseline][\"examples\"])).most_common(20))"
   ]
  },
  {
   "cell_type": "code",
   "execution_count": null,
   "metadata": {},
   "outputs": [],
   "source": []
  }
 ],
 "metadata": {
  "language_info": {
   "codemirror_mode": {
    "name": "ipython",
    "version": 3
   },
   "file_extension": ".py",
   "mimetype": "text/x-python",
   "name": "python",
   "nbconvert_exporter": "python",
   "pygments_lexer": "ipython3",
   "version": "3.7.6-final"
  },
  "orig_nbformat": 2,
  "kernelspec": {
   "name": "python37664bitposconda0523c88e767045dc9cfcfe32838715d2",
   "display_name": "Python 3.7.6 64-bit ('pos': conda)"
  }
 },
 "nbformat": 4,
 "nbformat_minor": 2
}