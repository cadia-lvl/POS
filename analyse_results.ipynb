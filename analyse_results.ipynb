{
 "cells": [
  {
   "cell_type": "markdown",
   "metadata": {},
   "source": []
  },
  {
   "cell_type": "code",
   "execution_count": 13,
   "metadata": {},
   "outputs": [],
   "source": [
    "from pathlib import Path\n",
    "from pprint import pprint\n",
    "\n",
    "from pos import evaluate\n",
    "from pos import data\n",
    "EXPERIMENT_DIR=Path(\".\")/\"out\""
   ]
  },
  {
   "cell_type": "markdown",
   "metadata": {},
   "source": [
    "## Read the experiment files"
   ]
  },
  {
   "cell_type": "code",
   "execution_count": 23,
   "metadata": {},
   "outputs": [],
   "source": [
    "def get_examples(experiment_name):\n",
    "    predictions = EXPERIMENT_DIR / experiment_name / \"predictions.tsv\"\n",
    "    return evaluate.analyse_examples(evaluate.flatten_data(data.read_tsv(str(predictions))))\n",
    "\n",
    "def get_vocab(experiment_name):\n",
    "    vocab = EXPERIMENT_DIR / \"vocab.pickle\"\n",
    "    return 0\n",
    "\n",
    "experiment_names = [\n",
    "    \"sgd+morph_lex-freeze+wemb-pretrained-300-reduced-lr\",\n",
    "    \"large\",\n",
    "    \"main-2-layer\"\n",
    "]\n",
    "experiments = { \n",
    "    experiment_name: {\n",
    "        \"examples\": get_examples(experiment_name),\n",
    "        \"vocab\": get_vocab(experiment_name)\n",
    "    }\n",
    "    for experiment_name in experiment_names\n",
    "}"
   ]
  },
  {
   "cell_type": "markdown",
   "metadata": {},
   "source": [
    "### Accuracy\n"
   ]
  },
  {
   "cell_type": "code",
   "execution_count": 25,
   "metadata": {
    "tags": []
   },
   "outputs": [
    {
     "output_type": "stream",
     "name": "stdout",
     "text": "sgd+morph_lex-freeze+wemb-pretrained-300-reduced-lr    : 0.9585\nlarge                                                  : 0.9568\nmain-2-layer                                           : 0.9622\n"
    }
   ],
   "source": [
    "for experiment_name, experiment in experiments.items():\n",
    "    print(f\"{experiment_name:55}: {evaluate.calculate_accuracy(experiment['examples']):.4f}\")"
   ]
  },
  {
   "cell_type": "markdown",
   "metadata": {},
   "source": [
    "### Errors\n",
    "Proposed tag -> gold tag"
   ]
  },
  {
   "cell_type": "code",
   "execution_count": 29,
   "metadata": {
    "tags": []
   },
   "outputs": [
    {
     "output_type": "stream",
     "name": "stdout",
     "text": "sgd+morph_lex-freeze+wemb-pretrained-300-reduced-lr\n[('aa -> af', 75),\n ('af -> aa', 65),\n ('nveþ -> nveo', 41),\n ('ct -> c', 36),\n ('fohen -> foheo', 36),\n ('nhfo -> nheo', 28),\n ('sfg3eþ -> svg3eþ', 27),\n ('nkeo -> nkeþ', 25),\n ('fpkfþ -> fphfþ', 25),\n ('sng -> sfg3fn', 25),\n ('nhen -> nheo', 23),\n ('fpkfe -> fphfe', 21),\n ('nveo -> nveþ', 19),\n ('lhensf -> lheosf', 17),\n ('c -> aa', 16),\n ('nkeþ -> nkeo', 16),\n ('fpheþ -> aa', 15),\n ('lhensf -> aa', 15),\n ('nvfn -> nvfo', 15),\n ('nheo -> nhen', 15)]\nlarge\n[('aa -> af', 93),\n ('af -> aa', 65),\n ('nveo -> nveþ', 39),\n ('nveþ -> nveo', 37),\n ('nhen -> nheo', 32),\n ('ct -> c', 26),\n ('sfg3eþ -> svg3eþ', 23),\n ('nhfo -> nheo', 22),\n ('sng -> sfg3fn', 22),\n ('nkeþ -> nkeo', 20),\n ('fohen -> foheo', 18),\n ('sfg1eþ -> sfg3eþ', 17),\n ('fpkfþ -> fphfþ', 17),\n ('nheo -> nhen', 16),\n ('nheo -> nhfo', 16),\n ('nven -> nveþ', 16),\n ('nkeo-s -> nkeþ-s', 16),\n ('sfg3eþ -> sfg1eþ', 15),\n ('nheþ -> nheo', 15),\n ('sfg3fn -> sng', 14)]\nmain-2-layer\n[('af -> aa', 71),\n ('aa -> af', 68),\n ('nveþ -> nveo', 32),\n ('nveo -> nveþ', 30),\n ('ct -> c', 29),\n ('sfg3eþ -> svg3eþ', 23),\n ('fohen -> foheo', 23),\n ('c -> af', 19),\n ('fpkfþ -> fphfþ', 19),\n ('nkeþ -> nkeo', 18),\n ('nhfo -> nheo', 18),\n ('nheo -> nhen', 18),\n ('c -> ct', 17),\n ('sng -> sfg3fn', 17),\n ('fpkfe -> fphfe', 16),\n ('lhensf -> aa', 15),\n ('nkeþ-s -> nkeo-s', 15),\n ('sfg3fn -> sng', 15),\n ('nhen -> nheo', 15),\n ('sþghen -> lhensf', 15)]\n"
    }
   ],
   "source": [
    "\n",
    "for experiment_name in experiments:\n",
    "    print(experiment_name)\n",
    "    errors = evaluate.all_errors(experiments[experiment_name][\"examples\"])\n",
    "    pprint(errors.most_common(20))\n",
    "\n"
   ]
  },
  {
   "cell_type": "code",
   "execution_count": 30,
   "metadata": {},
   "outputs": [],
   "source": [
    "def get_error_diff(baseline, compare_to):\n",
    "    result = {}\n",
    "    for key, value in baseline.items():\n",
    "        if key not in compare_to:\n",
    "            result[key] = basline[key]\n",
    "            continue\n",
    "        diff = baseline[key] - compare_to[key]\n",
    "        if diff != 0:\n",
    "            result[key] = diff\n",
    "    return result\n",
    "\n",
    "            "
   ]
  },
  {
   "cell_type": "code",
   "execution_count": 46,
   "metadata": {
    "tags": []
   },
   "outputs": [
    {
     "output_type": "stream",
     "name": "stdout",
     "text": "Counter({2: 1})\n"
    }
   ],
   "source": [
    "from collections import Counter\n",
    "c_1 = Counter((1, 1, 2))\n",
    "c_2 = Counter((1, 1, 3))\n",
    "print(c_1 - c_2)"
   ]
  },
  {
   "cell_type": "code",
   "execution_count": 47,
   "metadata": {
    "tags": []
   },
   "outputs": [
    {
     "output_type": "stream",
     "name": "stdout",
     "text": "large: First, in basline not in large, then in large not in basline.\n[('fohen -> foheo', 18),\n ('nkeo -> nkeþ', 12),\n ('ct -> c', 10),\n ('fpvfþ -> fphfþ', 9),\n ('nveþ -> nven', 8),\n ('fpkfþ -> fphfþ', 8),\n ('fp1fo -> fp1fþ', 7),\n ('fpkfe -> fphfe', 7),\n ('lhensf -> aa', 6),\n ('nvfn -> nvfo', 6),\n ('nhfo -> nheo', 6),\n ('lvensf -> lhfnsf', 6),\n ('e -> nhfn', 6),\n ('lhensf -> lheosf', 6),\n ('fpheþ -> aa', 5),\n ('svg3fn -> svg3en', 5),\n ('svg1fn -> sfg1fn', 5),\n ('nken-s -> n----s', 5),\n ('nveþ -> nveo', 4),\n ('sfg3eþ -> svg3eþ', 4)]\n[('nveo -> nveþ', 20),\n ('aa -> af', 18),\n ('sfg1eþ -> sfg3eþ', 11),\n ('nven -> nveþ', 10),\n ('svg3eþ -> sfg3eþ', 9),\n ('nhen -> nheo', 9),\n ('nheþ -> nheo', 8),\n ('nkeo -> nkfo', 7),\n ('nveo -> nven', 7),\n ('fphfþ -> fpkfþ', 7),\n ('fp1fþ -> fp1fo', 7),\n ('sþgvfn -> lvfnsf', 6),\n ('nveo -> nvee', 6),\n ('aa -> fp1fn', 6),\n ('fpheo -> fphen', 5),\n ('svg3fþ -> sfg3fþ', 5),\n ('fpkeo -> fpken', 5),\n ('fphfe -> fpkfe', 5),\n ('af -> c', 4),\n ('aa -> fpheþ', 4)]\nmain-2-layer: First, in basline not in main-2-layer, then in main-2-layer not in basline.\n[('nkeo -> nkeþ', 13),\n ('fohen -> foheo', 13),\n ('nhfo -> nheo', 10),\n ('nheng -> nheog', 9),\n ('nveþ -> nveo', 9),\n ('nhen -> nheo', 8),\n ('nveþ -> nven', 8),\n ('sng -> sfg3fn', 8),\n ('aa -> af', 7),\n ('ct -> c', 7),\n ('fpkfo -> aa', 6),\n ('lvensf -> lhfnsf', 6),\n ('nhfo -> nhfn', 6),\n ('nkeþ-s -> nken-s', 6),\n ('nkeo-s -> nkeþ-s', 6),\n ('af -> sfg3en', 6),\n ('fpkfþ -> fphfþ', 6),\n ('c -> aa', 5),\n ('sfg3eþ -> sfg1eþ', 5),\n ('nvfn -> nvfo', 5)]\n[('nveo -> nveþ', 11),\n ('nkeþ-s -> nkeo-s', 9),\n ('svg3eþ -> sfg3eþ', 8),\n ('c -> af', 7),\n ('c -> ct', 7),\n ('af -> aa', 6),\n ('nveo -> nvee', 5),\n ('lhensf -> lvensf', 5),\n ('lheosf -> aa', 4),\n ('sfg1eþ -> sfg3eþ', 4),\n ('nheþ -> nheo', 4),\n ('nhfn -> nheo', 4),\n ('ta -> tfkfn', 4),\n ('fp1fn -> af', 3),\n ('sfg3fn -> sng', 3),\n ('nkeþ -> sng', 3),\n ('sfg2fn -> sþghen', 3),\n ('nkfo -> nkeþ', 3),\n ('fpheo -> fphen', 3),\n ('sþgvfn -> lvfnsf', 3)]\n"
    }
   ],
   "source": [
    "baseline = \"sgd+morph_lex-freeze+wemb-pretrained-300-reduced-lr\"\n",
    "baseline_errors = evaluate.all_errors(experiments[baseline][\"examples\"])\n",
    "for experiment_name in experiments:\n",
    "    if experiment_name == baseline:\n",
    "        continue\n",
    "    print(f\"{experiment_name}: First, in basline not in {experiment_name}, then in {experiment_name} not in basline.\")\n",
    "    pprint((evaluate.all_errors(experiments[baseline][\"examples\"]) - evaluate.all_errors(experiments[experiment_name][\"examples\"])).most_common(20))\n",
    "    pprint((evaluate.all_errors(experiments[experiment_name][\"examples\"]) - evaluate.all_errors(experiments[baseline][\"examples\"])).most_common(20))"
   ]
  },
  {
   "cell_type": "code",
   "execution_count": null,
   "metadata": {},
   "outputs": [],
   "source": []
  }
 ],
 "metadata": {
  "language_info": {
   "codemirror_mode": {
    "name": "ipython",
    "version": 3
   },
   "file_extension": ".py",
   "mimetype": "text/x-python",
   "name": "python",
   "nbconvert_exporter": "python",
   "pygments_lexer": "ipython3",
   "version": "3.7.6-final"
  },
  "orig_nbformat": 2,
  "kernelspec": {
   "name": "python37664bitposconda0523c88e767045dc9cfcfe32838715d2",
   "display_name": "Python 3.7.6 64-bit ('pos': conda)"
  }
 },
 "nbformat": 4,
 "nbformat_minor": 2
}