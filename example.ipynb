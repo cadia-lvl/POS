{
 "metadata": {
  "language_info": {
   "codemirror_mode": {
    "name": "ipython",
    "version": 3
   },
   "file_extension": ".py",
   "mimetype": "text/x-python",
   "name": "python",
   "nbconvert_exporter": "python",
   "pygments_lexer": "ipython3",
   "version": "3.8.5"
  },
  "orig_nbformat": 2,
  "kernelspec": {
   "name": "pythonjvsc74a57bd0a3c13afaa1cf00b0f4e5a9fdcf3721ebeebc08d7c7380665acd394788b291303",
   "display_name": "Python 3.8.5  ('.venv': venv)"
  },
  "metadata": {
   "interpreter": {
    "hash": "a3c13afaa1cf00b0f4e5a9fdcf3721ebeebc08d7c7380665acd394788b291303"
   }
  }
 },
 "nbformat": 4,
 "nbformat_minor": 2,
 "cells": [
  {
   "cell_type": "code",
   "execution_count": null,
   "metadata": {},
   "outputs": [],
   "source": [
    "import pos\n",
    "\n",
    "tagger = pos.Tagger(model_file=\"/home/haukurpj/Resources/Models/POS/tagger-electra-base-release/tagger.pt\")\n",
    "lemmatizer = pos.Lemmatizer(model_file=\"/home/haukurpj/Resources/Models/Lemmatizer/lemmatizer-bin-data-512-trained-1e-4/lemmatizer.pt\")"
   ]
  },
  {
   "cell_type": "code",
   "execution_count": null,
   "metadata": {},
   "outputs": [],
   "source": [
    "import tokenizer\n",
    "import time\n",
    "\n",
    "def tag_and_lemma(test):\n",
    "    test = [tok.txt for tok in tokenizer.tokenize(test) if tok.txt]\n",
    "    start = time.time()\n",
    "    tags = tagger.tag_sent(test)\n",
    "    tags_done = time.time()\n",
    "    lemmas = lemmatizer.lemma_sent(test, tags)\n",
    "    lemmas_done = time.time()\n",
    "    print(f\"Duration; Tagging: {tags_done - start}, Lemmas: {lemmas_done - tags_done}\")\n",
    "    for tok, tag, lemma in zip(test, tags, lemmas):\n",
    "        print(f\"{tok:<30}{tag:<10}{lemma:<30}\")\n",
    "\n"
   ]
  },
  {
   "cell_type": "code",
   "execution_count": null,
   "metadata": {},
   "outputs": [],
   "source": [
    "tag_and_lemma(\"Hann fór til Gillza\")"
   ]
  },
  {
   "cell_type": "code",
   "execution_count": null,
   "metadata": {},
   "outputs": [],
   "source": [
    "def tag_and_lemma_ds(ds):\n",
    "    tokens = ds.get_field(\"tokens\")\n",
    "    start = time.time()\n",
    "    tags = tagger.tag_bulk(tokens)\n",
    "    tags_done = time.time()\n",
    "    lemmas = lemmatizer.lemma_bulk((tokens, tags))\n",
    "    lemmas_done = time.time()\n",
    "    print(f\"Duration; Tagging: {tags_done - start}, Lemmas: {lemmas_done - tags_done}\")\n",
    "    for tok_s, tag_s, lemma_s in zip(tokens, tags, lemmas):\n",
    "        for tok, tag, lemma in zip(tok_s, tag_s, lemma_s):\n",
    "            print(f\"{tok:<30}{tag:<10}{lemma:<30}\")\n"
   ]
  },
  {
   "cell_type": "code",
   "execution_count": null,
   "metadata": {},
   "outputs": [],
   "source": [
    "ds = pos.FieldedDataset.from_file(\"example.txt\")\n",
    "tag_and_lemma_ds(ds)"
   ]
  },
  {
   "cell_type": "code",
   "execution_count": null,
   "metadata": {},
   "outputs": [],
   "source": []
  }
 ]
}